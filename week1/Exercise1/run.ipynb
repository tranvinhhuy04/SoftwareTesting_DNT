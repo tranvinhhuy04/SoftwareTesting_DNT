{
 "cells": [
  {
   "cell_type": "markdown",
   "id": "d8f5e997",
   "metadata": {},
   "source": [
    "<h2>LIBRARY</h2>"
   ]
  },
  {
   "cell_type": "code",
   "execution_count": 80,
   "id": "382ea9b2",
   "metadata": {},
   "outputs": [],
   "source": [
    "import subprocess\n",
    "from IPython.core.interactiveshell import InteractiveShell\n",
    "InteractiveShell.ast_node_interactivity = \"all\""
   ]
  },
  {
   "cell_type": "markdown",
   "id": "93554f41",
   "metadata": {},
   "source": [
    "<h2>FILE CPP</h2>"
   ]
  },
  {
   "cell_type": "code",
   "execution_count": null,
   "id": "6a054706",
   "metadata": {},
   "outputs": [],
   "source": [
    "programs = [\"2a.cpp\",\"2b.cpp\",\"2c.cpp\",\"2d.cpp\",\"2e.cpp\",\"practice1.cpp\"]  "
   ]
  },
  {
   "cell_type": "markdown",
   "id": "d37f1fdd",
   "metadata": {},
   "source": [
    "<h2>TEST CASE</h2>"
   ]
  },
  {
   "cell_type": "code",
   "execution_count": null,
   "id": "67bba32f",
   "metadata": {},
   "outputs": [],
   "source": [
    "test_cases = {\n",
    "    \"2a.cpp\": [(\"11\", \"22\"), (\"10\", \"-10\")],\n",
    "    \"2b.cpp\": [(\"11\", \"22\"), (\"5\", \"-5\"), (\"-3\", \"-6\")],\n",
    "    \"2c.cpp\": [(\"6\", \"12\"), (\"1\", \"2\"), (\"12\", \"24\")],\n",
    "    \"2d.cpp\": [(\"2\", \"4\"), (\"0\", \"0\")],\n",
    "    \"2e.cpp\": [(\"5 3 1\", \"5\"), (\"2 8 4\", \"8\"), (\"1 4 9\", \"9\"), (\"7 7 5\", \"7\"), (\"6 2 6\", \"6\"),\n",
    "               (\"3 8 8\", \"8\"), (\"-1 -5 -9\", \"-1\"), (\"-5 -7 -2\", \"-2\"), (\"5 5 5\", \"5\")],\n",
    "    \"practice1.cpp\": [(\"0 0 0\", \"Infinite solutions - Vô số nghiệm\"), (\"0 0 5\", \"No solution - Vô nghiệm\"), (\"0 2 -8\", \"2 real solutions x = +-2\"),\n",
    "                      (\"1 -5 4\", \"4 real solutions x=+-1, x=+-2\"), (\"1 2 3\", \"No solution - Vô nghiệm\"), (\"1 -2 1\", \"2 real solutions x = +-1\"),\n",
    "                      (\"1 1 0\", \"1 real solution x = 0\")],\n",
    "}"
   ]
  },
  {
   "cell_type": "markdown",
   "id": "431310f9",
   "metadata": {},
   "source": [
    "<h2>COMPILE + RUN</h2>"
   ]
  },
  {
   "cell_type": "code",
   "execution_count": null,
   "id": "da2fc17a",
   "metadata": {},
   "outputs": [
    {
     "name": "stdout",
     "output_type": "stream",
     "text": [
      "\n",
      "=== 2a.cpp ===\n"
     ]
    },
    {
     "data": {
      "text/plain": [
       "CompletedProcess(args=['g++', '2a.cpp', '-o', '2a.exe'], returncode=0)"
      ]
     },
     "execution_count": 83,
     "metadata": {},
     "output_type": "execute_result"
    },
    {
     "name": "stdout",
     "output_type": "stream",
     "text": [
      "Input: 11 → Output: 22 | Expected: 22\n",
      "Input: 10 → Output: -10 | Expected: -10\n",
      "\n",
      "=== 2b.cpp ===\n"
     ]
    },
    {
     "data": {
      "text/plain": [
       "CompletedProcess(args=['g++', '2b.cpp', '-o', '2b.exe'], returncode=0)"
      ]
     },
     "execution_count": 83,
     "metadata": {},
     "output_type": "execute_result"
    },
    {
     "name": "stdout",
     "output_type": "stream",
     "text": [
      "Input: 11 → Output: 22 | Expected: 22\n",
      "Input: 5 → Output: -5 | Expected: -5\n",
      "Input: -3 → Output: -6 | Expected: -6\n",
      "\n",
      "=== 2c.cpp ===\n"
     ]
    },
    {
     "data": {
      "text/plain": [
       "CompletedProcess(args=['g++', '2c.cpp', '-o', '2c.exe'], returncode=0)"
      ]
     },
     "execution_count": 83,
     "metadata": {},
     "output_type": "execute_result"
    },
    {
     "name": "stdout",
     "output_type": "stream",
     "text": [
      "Input: 6 → Output: 12 | Expected: 12\n",
      "Input: 1 → Output: 2 | Expected: 2\n",
      "Input: 12 → Output: 24 | Expected: 24\n",
      "\n",
      "=== 2d.cpp ===\n"
     ]
    },
    {
     "data": {
      "text/plain": [
       "CompletedProcess(args=['g++', '2d.cpp', '-o', '2d.exe'], returncode=0)"
      ]
     },
     "execution_count": 83,
     "metadata": {},
     "output_type": "execute_result"
    },
    {
     "name": "stdout",
     "output_type": "stream",
     "text": [
      "Input: 2 → Output: 4 | Expected: 4\n",
      "Input: 0 → Output: 0 | Expected: 0\n",
      "\n",
      "=== 2e.cpp ===\n"
     ]
    },
    {
     "data": {
      "text/plain": [
       "CompletedProcess(args=['g++', '2e.cpp', '-o', '2e.exe'], returncode=0)"
      ]
     },
     "execution_count": 83,
     "metadata": {},
     "output_type": "execute_result"
    },
    {
     "name": "stdout",
     "output_type": "stream",
     "text": [
      "Input: 5 3 1 → Output: 5 | Expected: 5\n",
      "Input: 2 8 4 → Output: 8 | Expected: 8\n",
      "Input: 1 4 9 → Output: 9 | Expected: 9\n",
      "Input: 7 7 5 → Output: 0 | Expected: 7\n",
      "Input: 6 2 6 → Output: 0 | Expected: 6\n",
      "Input: 3 8 8 → Output: 0 | Expected: 8\n",
      "Input: -1 -5 -9 → Output: -1 | Expected: -1\n",
      "Input: -5 -7 -2 → Output: -2 | Expected: -2\n",
      "Input: 5 5 5 → Output: 0 | Expected: 5\n",
      "\n",
      "=== practice1.cpp ===\n"
     ]
    },
    {
     "data": {
      "text/plain": [
       "CompletedProcess(args=['g++', 'practice1.cpp', '-o', 'practice1.exe'], returncode=0)"
      ]
     },
     "execution_count": 83,
     "metadata": {},
     "output_type": "execute_result"
    },
    {
     "name": "stdout",
     "output_type": "stream",
     "text": [
      "Input: 0 0 0 → Output: Infinite solutions. | Expected: Infinite solutions - Vô số nghiệm\n",
      "Input: 0 0 5 → Output: No solution. | Expected: No solution - Vô nghiệm\n",
      "Input: 0 2 -8 → Output: The equation has 2 real solution(s): 2 -2 | Expected: 2 real solutions x = +-2\n",
      "Input: 1 -5 4 → Output: The equation has 4 real solution(s): 2 -2 1 -1 | Expected: 4 real solutions x=+-1, x=+-2\n",
      "Input: 1 2 3 → Output: No solution. | Expected: No solution - Vô nghiệm\n",
      "Input: 1 -2 1 → Output: The equation has 2 real solution(s): 1 -1 | Expected: 2 real solutions x = +-1\n",
      "Input: 1 1 0 → Output: The equation has 2 real solution(s): 0 -0 | Expected: 1 real solution x = 0\n"
     ]
    }
   ],
   "source": [
    "for cpp in programs:\n",
    "    exe = cpp.replace(\".cpp\", \".exe\")   \n",
    "    print(f\"\\n=== {cpp} ===\")\n",
    "    subprocess.run([\"g++\", cpp, \"-o\", exe], check=True)\n",
    "    \n",
    "    for inp, expected in test_cases.get(cpp, []):\n",
    "        result = subprocess.run([exe], input=inp,  \n",
    "                                capture_output=True, text=True)\n",
    "        output = result.stdout.strip()\n",
    "        print(f\"Input: {inp} → Output: {output} | Expected: {expected}\")"
   ]
  }
 ],
 "metadata": {
  "kernelspec": {
   "display_name": "Python 3",
   "language": "python",
   "name": "python3"
  },
  "language_info": {
   "codemirror_mode": {
    "name": "ipython",
    "version": 3
   },
   "file_extension": ".py",
   "mimetype": "text/x-python",
   "name": "python",
   "nbconvert_exporter": "python",
   "pygments_lexer": "ipython3",
   "version": "3.13.7"
  }
 },
 "nbformat": 4,
 "nbformat_minor": 5
}
